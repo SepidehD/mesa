{
 "cells": [
  {
   "cell_type": "code",
   "execution_count": 1,
   "metadata": {
    "collapsed": true
   },
   "outputs": [],
   "source": [
    "import networkx as nx\n",
    "import random"
   ]
  },
  {
   "cell_type": "code",
   "execution_count": 2,
   "metadata": {
    "collapsed": false
   },
   "outputs": [],
   "source": [
    "from mesa import Agent, Model\n",
    "from mesa.time import RandomActivation"
   ]
  },
  {
   "cell_type": "code",
   "execution_count": 3,
   "metadata": {
    "collapsed": false
   },
   "outputs": [],
   "source": [
    "class NetworkAgent(Agent):\n",
    "    def __init__(self, unique_id):\n",
    "        self.unique_id = unique_id\n",
    "    \n",
    "    def step(self, model):\n",
    "        # The agent step will go here\n",
    "        pass"
   ]
  },
  {
   "cell_type": "markdown",
   "metadata": {},
   "source": [
    "### Code from Netlogo"
   ]
  },
  {
   "cell_type": "raw",
   "metadata": {},
   "source": [
    "to setup-spatially-clustered-network\n",
    "  let num-links (average-node-degree * number-of-nodes) / 2\n",
    "  while [count links < num-links ]\n",
    "  [\n",
    "    ask one-of turtles\n",
    "    [\n",
    "      let choice (min-one-of (other turtles with [not link-neighbor? myself])\n",
    "                   [distance myself])\n",
    "      if choice != nobody [ create-link-with choice ]\n",
    "    ]\n",
    "  ]\n",
    "  ; make the network look a little prettier\n",
    "  repeat 10\n",
    "  [\n",
    "    layout-spring turtles links 0.3 (world-width / (sqrt number-of-nodes)) 1\n",
    "  ]\n",
    "end"
   ]
  },
  {
   "cell_type": "code",
   "execution_count": 4,
   "metadata": {
    "collapsed": false
   },
   "outputs": [],
   "source": [
    "class NetworkModel(Model):\n",
    "    \"\"\"A model with some number of agents\"\"\"\n",
    "    def __init__(self, N, avg_node_degree):\n",
    "        self.num_agents = N\n",
    "        self.avg_node_degree = avg_node_degree\n",
    "        self.schedule = RandomActivation(self)\n",
    "        self.graph = None\n",
    "                \n",
    "        #create Graph\n",
    "        num_links = (self.avg_node_degree * self.num_agents) / 2\n",
    "        \n",
    "        G = nx.dense_gnm_random_graph(self.num_agents, num_links)\n",
    "        print(G.edges())\n",
    "        \n",
    "    def step(self):\n",
    "        \"\"\"Advance the model by one step.\"\"\"\n",
    "        self.schedule.step()"
   ]
  },
  {
   "cell_type": "code",
   "execution_count": 5,
   "metadata": {
    "collapsed": false
   },
   "outputs": [
    {
     "name": "stdout",
     "output_type": "stream",
     "text": [
      "[(0, 25), (0, 20), (0, 30), (0, 33), (1, 16), (1, 34), (1, 35), (1, 20), (1, 38), (1, 22), (1, 39), (1, 9), (1, 27), (1, 29), (1, 36), (2, 9), (2, 19), (2, 4), (2, 41), (2, 39), (3, 19), (3, 12), (3, 22), (4, 16), (4, 17), (4, 35), (4, 23), (4, 11), (4, 28), (4, 45), (5, 40), (5, 18), (5, 11), (5, 31), (6, 16), (6, 19), (6, 47), (7, 24), (7, 25), (7, 37), (8, 16), (8, 24), (8, 18), (8, 11), (8, 31), (9, 20), (9, 46), (9, 41), (10, 48), (10, 49), (10, 38), (10, 15), (11, 25), (11, 42), (11, 13), (12, 45), (13, 16), (13, 43), (13, 22), (14, 30), (15, 41), (15, 22), (16, 45), (16, 21), (16, 31), (16, 29), (17, 25), (17, 49), (18, 25), (18, 26), (19, 45), (20, 22), (20, 26), (20, 29), (21, 33), (21, 23), (21, 41), (21, 28), (21, 46), (22, 35), (24, 47), (24, 35), (24, 45), (25, 29), (26, 40), (26, 38), (26, 30), (27, 36), (27, 33), (29, 40), (30, 36), (31, 37), (32, 34), (35, 48), (35, 38), (37, 45), (38, 42), (38, 45), (39, 46), (44, 48)]\n"
     ]
    }
   ],
   "source": [
    "model = NetworkModel(50, 4)\n",
    "model.step()"
   ]
  },
  {
   "cell_type": "code",
   "execution_count": 59,
   "metadata": {
    "collapsed": false
   },
   "outputs": [
    {
     "name": "stdout",
     "output_type": "stream",
     "text": [
      "Using matplotlib backend: TkAgg\n"
     ]
    }
   ],
   "source": []
  },
  {
   "cell_type": "code",
   "execution_count": 60,
   "metadata": {
    "collapsed": false
   },
   "outputs": [
    {
     "ename": "TypeError",
     "evalue": "object of type 'NoneType' has no len()",
     "output_type": "error",
     "traceback": [
      "\u001b[0;31m---------------------------------------------------------------------------\u001b[0m",
      "\u001b[0;31mTypeError\u001b[0m                                 Traceback (most recent call last)",
      "\u001b[0;32m<ipython-input-60-f881fb4e6a5b>\u001b[0m in \u001b[0;36m<module>\u001b[0;34m()\u001b[0m\n\u001b[1;32m      1\u001b[0m \u001b[0mG\u001b[0m \u001b[0;34m=\u001b[0m \u001b[0mmodel\u001b[0m\u001b[0;34m.\u001b[0m\u001b[0mgraph\u001b[0m\u001b[0;34m\u001b[0m\u001b[0m\n\u001b[0;32m----> 2\u001b[0;31m \u001b[0mlen\u001b[0m\u001b[0;34m(\u001b[0m\u001b[0mmodel\u001b[0m\u001b[0;34m.\u001b[0m\u001b[0mgraph\u001b[0m\u001b[0;34m)\u001b[0m\u001b[0;34m\u001b[0m\u001b[0m\n\u001b[0m",
      "\u001b[0;31mTypeError\u001b[0m: object of type 'NoneType' has no len()"
     ]
    }
   ],
   "source": [
    "G = model.graph\n",
    "len(model.graph)"
   ]
  },
  {
   "cell_type": "code",
   "execution_count": null,
   "metadata": {
    "collapsed": false
   },
   "outputs": [],
   "source": []
  },
  {
   "cell_type": "code",
   "execution_count": null,
   "metadata": {
    "collapsed": true
   },
   "outputs": [],
   "source": [
    "3 = 3\n",
    "4 = 6\n",
    "5 = 10\n",
    "6 = 15\n",
    "20 = 190"
   ]
  }
 ],
 "metadata": {
  "kernelspec": {
   "display_name": "Python 3",
   "language": "python",
   "name": "python3"
  },
  "language_info": {
   "codemirror_mode": {
    "name": "ipython",
    "version": 3
   },
   "file_extension": ".py",
   "mimetype": "text/x-python",
   "name": "python",
   "nbconvert_exporter": "python",
   "pygments_lexer": "ipython3",
   "version": "3.5.1"
  }
 },
 "nbformat": 4,
 "nbformat_minor": 0
}
